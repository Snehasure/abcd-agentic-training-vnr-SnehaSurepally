{
 "cells": [
  {
   "cell_type": "code",
   "execution_count": 1,
   "id": "f8c6b50e",
   "metadata": {},
   "outputs": [
    {
     "name": "stdout",
     "output_type": "stream",
     "text": [
      "Requirement already satisfied: python-telegram-bot in c:\\users\\surep\\onedrive\\desktop\\ollama_code_explainer\\venv\\lib\\site-packages (22.5)\n",
      "Requirement already satisfied: aiohttp in c:\\users\\surep\\onedrive\\desktop\\ollama_code_explainer\\venv\\lib\\site-packages (3.13.2)\n",
      "Requirement already satisfied: python-dotenv in c:\\users\\surep\\onedrive\\desktop\\ollama_code_explainer\\venv\\lib\\site-packages (1.2.1)\n",
      "Requirement already satisfied: jupyter in c:\\users\\surep\\onedrive\\desktop\\ollama_code_explainer\\venv\\lib\\site-packages (1.1.1)\n",
      "Requirement already satisfied: httpx<0.29,>=0.27 in c:\\users\\surep\\onedrive\\desktop\\ollama_code_explainer\\venv\\lib\\site-packages (from python-telegram-bot) (0.28.1)\n",
      "Requirement already satisfied: aiohappyeyeballs>=2.5.0 in c:\\users\\surep\\onedrive\\desktop\\ollama_code_explainer\\venv\\lib\\site-packages (from aiohttp) (2.6.1)\n",
      "Requirement already satisfied: aiosignal>=1.4.0 in c:\\users\\surep\\onedrive\\desktop\\ollama_code_explainer\\venv\\lib\\site-packages (from aiohttp) (1.4.0)\n",
      "Requirement already satisfied: attrs>=17.3.0 in c:\\users\\surep\\onedrive\\desktop\\ollama_code_explainer\\venv\\lib\\site-packages (from aiohttp) (25.4.0)\n",
      "Requirement already satisfied: frozenlist>=1.1.1 in c:\\users\\surep\\onedrive\\desktop\\ollama_code_explainer\\venv\\lib\\site-packages (from aiohttp) (1.8.0)\n",
      "Requirement already satisfied: multidict<7.0,>=4.5 in c:\\users\\surep\\onedrive\\desktop\\ollama_code_explainer\\venv\\lib\\site-packages (from aiohttp) (6.7.0)\n",
      "Requirement already satisfied: propcache>=0.2.0 in c:\\users\\surep\\onedrive\\desktop\\ollama_code_explainer\\venv\\lib\\site-packages (from aiohttp) (0.4.1)\n",
      "Requirement already satisfied: yarl<2.0,>=1.17.0 in c:\\users\\surep\\onedrive\\desktop\\ollama_code_explainer\\venv\\lib\\site-packages (from aiohttp) (1.22.0)\n",
      "Requirement already satisfied: notebook in c:\\users\\surep\\onedrive\\desktop\\ollama_code_explainer\\venv\\lib\\site-packages (from jupyter) (7.4.7)\n",
      "Requirement already satisfied: jupyter-console in c:\\users\\surep\\onedrive\\desktop\\ollama_code_explainer\\venv\\lib\\site-packages (from jupyter) (6.6.3)\n",
      "Requirement already satisfied: nbconvert in c:\\users\\surep\\onedrive\\desktop\\ollama_code_explainer\\venv\\lib\\site-packages (from jupyter) (7.16.6)\n",
      "Requirement already satisfied: ipykernel in c:\\users\\surep\\onedrive\\desktop\\ollama_code_explainer\\venv\\lib\\site-packages (from jupyter) (7.1.0)\n",
      "Requirement already satisfied: ipywidgets in c:\\users\\surep\\onedrive\\desktop\\ollama_code_explainer\\venv\\lib\\site-packages (from jupyter) (8.1.7)\n",
      "Requirement already satisfied: jupyterlab in c:\\users\\surep\\onedrive\\desktop\\ollama_code_explainer\\venv\\lib\\site-packages (from jupyter) (4.4.10)\n",
      "Requirement already satisfied: typing-extensions>=4.2 in c:\\users\\surep\\onedrive\\desktop\\ollama_code_explainer\\venv\\lib\\site-packages (from aiosignal>=1.4.0->aiohttp) (4.15.0)\n",
      "Requirement already satisfied: anyio in c:\\users\\surep\\onedrive\\desktop\\ollama_code_explainer\\venv\\lib\\site-packages (from httpx<0.29,>=0.27->python-telegram-bot) (4.11.0)\n",
      "Requirement already satisfied: certifi in c:\\users\\surep\\onedrive\\desktop\\ollama_code_explainer\\venv\\lib\\site-packages (from httpx<0.29,>=0.27->python-telegram-bot) (2025.10.5)\n",
      "Requirement already satisfied: httpcore==1.* in c:\\users\\surep\\onedrive\\desktop\\ollama_code_explainer\\venv\\lib\\site-packages (from httpx<0.29,>=0.27->python-telegram-bot) (1.0.9)\n",
      "Requirement already satisfied: idna in c:\\users\\surep\\onedrive\\desktop\\ollama_code_explainer\\venv\\lib\\site-packages (from httpx<0.29,>=0.27->python-telegram-bot) (3.11)\n",
      "Requirement already satisfied: h11>=0.16 in c:\\users\\surep\\onedrive\\desktop\\ollama_code_explainer\\venv\\lib\\site-packages (from httpcore==1.*->httpx<0.29,>=0.27->python-telegram-bot) (0.16.0)\n",
      "Requirement already satisfied: comm>=0.1.1 in c:\\users\\surep\\onedrive\\desktop\\ollama_code_explainer\\venv\\lib\\site-packages (from ipykernel->jupyter) (0.2.3)\n",
      "Requirement already satisfied: debugpy>=1.6.5 in c:\\users\\surep\\onedrive\\desktop\\ollama_code_explainer\\venv\\lib\\site-packages (from ipykernel->jupyter) (1.8.17)\n",
      "Requirement already satisfied: ipython>=7.23.1 in c:\\users\\surep\\onedrive\\desktop\\ollama_code_explainer\\venv\\lib\\site-packages (from ipykernel->jupyter) (9.6.0)\n",
      "Requirement already satisfied: jupyter-client>=8.0.0 in c:\\users\\surep\\onedrive\\desktop\\ollama_code_explainer\\venv\\lib\\site-packages (from ipykernel->jupyter) (8.6.3)\n",
      "Requirement already satisfied: jupyter-core!=5.0.*,>=4.12 in c:\\users\\surep\\onedrive\\desktop\\ollama_code_explainer\\venv\\lib\\site-packages (from ipykernel->jupyter) (5.9.1)\n",
      "Requirement already satisfied: matplotlib-inline>=0.1 in c:\\users\\surep\\onedrive\\desktop\\ollama_code_explainer\\venv\\lib\\site-packages (from ipykernel->jupyter) (0.2.1)\n",
      "Requirement already satisfied: nest-asyncio>=1.4 in c:\\users\\surep\\onedrive\\desktop\\ollama_code_explainer\\venv\\lib\\site-packages (from ipykernel->jupyter) (1.6.0)\n",
      "Requirement already satisfied: packaging>=22 in c:\\users\\surep\\onedrive\\desktop\\ollama_code_explainer\\venv\\lib\\site-packages (from ipykernel->jupyter) (25.0)\n",
      "Requirement already satisfied: psutil>=5.7 in c:\\users\\surep\\onedrive\\desktop\\ollama_code_explainer\\venv\\lib\\site-packages (from ipykernel->jupyter) (7.1.2)\n",
      "Requirement already satisfied: pyzmq>=25 in c:\\users\\surep\\onedrive\\desktop\\ollama_code_explainer\\venv\\lib\\site-packages (from ipykernel->jupyter) (27.1.0)\n",
      "Requirement already satisfied: tornado>=6.2 in c:\\users\\surep\\onedrive\\desktop\\ollama_code_explainer\\venv\\lib\\site-packages (from ipykernel->jupyter) (6.5.2)\n",
      "Requirement already satisfied: traitlets>=5.4.0 in c:\\users\\surep\\onedrive\\desktop\\ollama_code_explainer\\venv\\lib\\site-packages (from ipykernel->jupyter) (5.14.3)\n",
      "Requirement already satisfied: widgetsnbextension~=4.0.14 in c:\\users\\surep\\onedrive\\desktop\\ollama_code_explainer\\venv\\lib\\site-packages (from ipywidgets->jupyter) (4.0.14)\n",
      "Requirement already satisfied: jupyterlab_widgets~=3.0.15 in c:\\users\\surep\\onedrive\\desktop\\ollama_code_explainer\\venv\\lib\\site-packages (from ipywidgets->jupyter) (3.0.15)\n",
      "Requirement already satisfied: prompt-toolkit>=3.0.30 in c:\\users\\surep\\onedrive\\desktop\\ollama_code_explainer\\venv\\lib\\site-packages (from jupyter-console->jupyter) (3.0.52)\n",
      "Requirement already satisfied: pygments in c:\\users\\surep\\onedrive\\desktop\\ollama_code_explainer\\venv\\lib\\site-packages (from jupyter-console->jupyter) (2.19.2)\n",
      "Requirement already satisfied: async-lru>=1.0.0 in c:\\users\\surep\\onedrive\\desktop\\ollama_code_explainer\\venv\\lib\\site-packages (from jupyterlab->jupyter) (2.0.5)\n",
      "Requirement already satisfied: jinja2>=3.0.3 in c:\\users\\surep\\onedrive\\desktop\\ollama_code_explainer\\venv\\lib\\site-packages (from jupyterlab->jupyter) (3.1.6)\n",
      "Requirement already satisfied: jupyter-lsp>=2.0.0 in c:\\users\\surep\\onedrive\\desktop\\ollama_code_explainer\\venv\\lib\\site-packages (from jupyterlab->jupyter) (2.3.0)\n",
      "Requirement already satisfied: jupyter-server<3,>=2.4.0 in c:\\users\\surep\\onedrive\\desktop\\ollama_code_explainer\\venv\\lib\\site-packages (from jupyterlab->jupyter) (2.17.0)\n",
      "Requirement already satisfied: jupyterlab-server<3,>=2.27.1 in c:\\users\\surep\\onedrive\\desktop\\ollama_code_explainer\\venv\\lib\\site-packages (from jupyterlab->jupyter) (2.28.0)\n",
      "Requirement already satisfied: notebook-shim>=0.2 in c:\\users\\surep\\onedrive\\desktop\\ollama_code_explainer\\venv\\lib\\site-packages (from jupyterlab->jupyter) (0.2.4)\n",
      "Requirement already satisfied: setuptools>=41.1.0 in c:\\users\\surep\\onedrive\\desktop\\ollama_code_explainer\\venv\\lib\\site-packages (from jupyterlab->jupyter) (80.9.0)\n",
      "Requirement already satisfied: beautifulsoup4 in c:\\users\\surep\\onedrive\\desktop\\ollama_code_explainer\\venv\\lib\\site-packages (from nbconvert->jupyter) (4.14.2)\n",
      "Requirement already satisfied: bleach!=5.0.0 in c:\\users\\surep\\onedrive\\desktop\\ollama_code_explainer\\venv\\lib\\site-packages (from bleach[css]!=5.0.0->nbconvert->jupyter) (6.3.0)\n",
      "Requirement already satisfied: defusedxml in c:\\users\\surep\\onedrive\\desktop\\ollama_code_explainer\\venv\\lib\\site-packages (from nbconvert->jupyter) (0.7.1)\n",
      "Requirement already satisfied: jupyterlab-pygments in c:\\users\\surep\\onedrive\\desktop\\ollama_code_explainer\\venv\\lib\\site-packages (from nbconvert->jupyter) (0.3.0)\n",
      "Requirement already satisfied: markupsafe>=2.0 in c:\\users\\surep\\onedrive\\desktop\\ollama_code_explainer\\venv\\lib\\site-packages (from nbconvert->jupyter) (3.0.3)\n",
      "Requirement already satisfied: mistune<4,>=2.0.3 in c:\\users\\surep\\onedrive\\desktop\\ollama_code_explainer\\venv\\lib\\site-packages (from nbconvert->jupyter) (3.1.4)\n",
      "Requirement already satisfied: nbclient>=0.5.0 in c:\\users\\surep\\onedrive\\desktop\\ollama_code_explainer\\venv\\lib\\site-packages (from nbconvert->jupyter) (0.10.2)\n",
      "Requirement already satisfied: nbformat>=5.7 in c:\\users\\surep\\onedrive\\desktop\\ollama_code_explainer\\venv\\lib\\site-packages (from nbconvert->jupyter) (5.10.4)\n",
      "Requirement already satisfied: pandocfilters>=1.4.1 in c:\\users\\surep\\onedrive\\desktop\\ollama_code_explainer\\venv\\lib\\site-packages (from nbconvert->jupyter) (1.5.1)\n",
      "Requirement already satisfied: webencodings in c:\\users\\surep\\onedrive\\desktop\\ollama_code_explainer\\venv\\lib\\site-packages (from bleach!=5.0.0->bleach[css]!=5.0.0->nbconvert->jupyter) (0.5.1)\n",
      "Requirement already satisfied: tinycss2<1.5,>=1.1.0 in c:\\users\\surep\\onedrive\\desktop\\ollama_code_explainer\\venv\\lib\\site-packages (from bleach[css]!=5.0.0->nbconvert->jupyter) (1.4.0)\n",
      "Requirement already satisfied: colorama in c:\\users\\surep\\onedrive\\desktop\\ollama_code_explainer\\venv\\lib\\site-packages (from ipython>=7.23.1->ipykernel->jupyter) (0.4.6)\n",
      "Requirement already satisfied: decorator in c:\\users\\surep\\onedrive\\desktop\\ollama_code_explainer\\venv\\lib\\site-packages (from ipython>=7.23.1->ipykernel->jupyter) (5.2.1)\n",
      "Requirement already satisfied: ipython-pygments-lexers in c:\\users\\surep\\onedrive\\desktop\\ollama_code_explainer\\venv\\lib\\site-packages (from ipython>=7.23.1->ipykernel->jupyter) (1.1.1)\n",
      "Requirement already satisfied: jedi>=0.16 in c:\\users\\surep\\onedrive\\desktop\\ollama_code_explainer\\venv\\lib\\site-packages (from ipython>=7.23.1->ipykernel->jupyter) (0.19.2)\n",
      "Requirement already satisfied: stack_data in c:\\users\\surep\\onedrive\\desktop\\ollama_code_explainer\\venv\\lib\\site-packages (from ipython>=7.23.1->ipykernel->jupyter) (0.6.3)\n",
      "Requirement already satisfied: python-dateutil>=2.8.2 in c:\\users\\surep\\onedrive\\desktop\\ollama_code_explainer\\venv\\lib\\site-packages (from jupyter-client>=8.0.0->ipykernel->jupyter) (2.9.0.post0)\n",
      "Requirement already satisfied: platformdirs>=2.5 in c:\\users\\surep\\onedrive\\desktop\\ollama_code_explainer\\venv\\lib\\site-packages (from jupyter-core!=5.0.*,>=4.12->ipykernel->jupyter) (4.5.0)\n",
      "Requirement already satisfied: argon2-cffi>=21.1 in c:\\users\\surep\\onedrive\\desktop\\ollama_code_explainer\\venv\\lib\\site-packages (from jupyter-server<3,>=2.4.0->jupyterlab->jupyter) (25.1.0)\n",
      "Requirement already satisfied: jupyter-events>=0.11.0 in c:\\users\\surep\\onedrive\\desktop\\ollama_code_explainer\\venv\\lib\\site-packages (from jupyter-server<3,>=2.4.0->jupyterlab->jupyter) (0.12.0)\n",
      "Requirement already satisfied: jupyter-server-terminals>=0.4.4 in c:\\users\\surep\\onedrive\\desktop\\ollama_code_explainer\\venv\\lib\\site-packages (from jupyter-server<3,>=2.4.0->jupyterlab->jupyter) (0.5.3)\n",
      "Requirement already satisfied: prometheus-client>=0.9 in c:\\users\\surep\\onedrive\\desktop\\ollama_code_explainer\\venv\\lib\\site-packages (from jupyter-server<3,>=2.4.0->jupyterlab->jupyter) (0.23.1)\n",
      "Requirement already satisfied: pywinpty>=2.0.1 in c:\\users\\surep\\onedrive\\desktop\\ollama_code_explainer\\venv\\lib\\site-packages (from jupyter-server<3,>=2.4.0->jupyterlab->jupyter) (3.0.2)\n",
      "Requirement already satisfied: send2trash>=1.8.2 in c:\\users\\surep\\onedrive\\desktop\\ollama_code_explainer\\venv\\lib\\site-packages (from jupyter-server<3,>=2.4.0->jupyterlab->jupyter) (1.8.3)\n",
      "Requirement already satisfied: terminado>=0.8.3 in c:\\users\\surep\\onedrive\\desktop\\ollama_code_explainer\\venv\\lib\\site-packages (from jupyter-server<3,>=2.4.0->jupyterlab->jupyter) (0.18.1)\n",
      "Requirement already satisfied: websocket-client>=1.7 in c:\\users\\surep\\onedrive\\desktop\\ollama_code_explainer\\venv\\lib\\site-packages (from jupyter-server<3,>=2.4.0->jupyterlab->jupyter) (1.9.0)\n",
      "Requirement already satisfied: sniffio>=1.1 in c:\\users\\surep\\onedrive\\desktop\\ollama_code_explainer\\venv\\lib\\site-packages (from anyio->httpx<0.29,>=0.27->python-telegram-bot) (1.3.1)\n",
      "Requirement already satisfied: babel>=2.10 in c:\\users\\surep\\onedrive\\desktop\\ollama_code_explainer\\venv\\lib\\site-packages (from jupyterlab-server<3,>=2.27.1->jupyterlab->jupyter) (2.17.0)\n",
      "Requirement already satisfied: json5>=0.9.0 in c:\\users\\surep\\onedrive\\desktop\\ollama_code_explainer\\venv\\lib\\site-packages (from jupyterlab-server<3,>=2.27.1->jupyterlab->jupyter) (0.12.1)\n",
      "Requirement already satisfied: jsonschema>=4.18.0 in c:\\users\\surep\\onedrive\\desktop\\ollama_code_explainer\\venv\\lib\\site-packages (from jupyterlab-server<3,>=2.27.1->jupyterlab->jupyter) (4.25.1)\n",
      "Requirement already satisfied: requests>=2.31 in c:\\users\\surep\\onedrive\\desktop\\ollama_code_explainer\\venv\\lib\\site-packages (from jupyterlab-server<3,>=2.27.1->jupyterlab->jupyter) (2.32.5)\n",
      "Requirement already satisfied: fastjsonschema>=2.15 in c:\\users\\surep\\onedrive\\desktop\\ollama_code_explainer\\venv\\lib\\site-packages (from nbformat>=5.7->nbconvert->jupyter) (2.21.2)\n",
      "Requirement already satisfied: wcwidth in c:\\users\\surep\\onedrive\\desktop\\ollama_code_explainer\\venv\\lib\\site-packages (from prompt-toolkit>=3.0.30->jupyter-console->jupyter) (0.2.14)\n",
      "Requirement already satisfied: soupsieve>1.2 in c:\\users\\surep\\onedrive\\desktop\\ollama_code_explainer\\venv\\lib\\site-packages (from beautifulsoup4->nbconvert->jupyter) (2.8)\n",
      "Requirement already satisfied: argon2-cffi-bindings in c:\\users\\surep\\onedrive\\desktop\\ollama_code_explainer\\venv\\lib\\site-packages (from argon2-cffi>=21.1->jupyter-server<3,>=2.4.0->jupyterlab->jupyter) (25.1.0)\n",
      "Requirement already satisfied: parso<0.9.0,>=0.8.4 in c:\\users\\surep\\onedrive\\desktop\\ollama_code_explainer\\venv\\lib\\site-packages (from jedi>=0.16->ipython>=7.23.1->ipykernel->jupyter) (0.8.5)\n",
      "Requirement already satisfied: jsonschema-specifications>=2023.03.6 in c:\\users\\surep\\onedrive\\desktop\\ollama_code_explainer\\venv\\lib\\site-packages (from jsonschema>=4.18.0->jupyterlab-server<3,>=2.27.1->jupyterlab->jupyter) (2025.9.1)\n",
      "Requirement already satisfied: referencing>=0.28.4 in c:\\users\\surep\\onedrive\\desktop\\ollama_code_explainer\\venv\\lib\\site-packages (from jsonschema>=4.18.0->jupyterlab-server<3,>=2.27.1->jupyterlab->jupyter) (0.37.0)\n",
      "Requirement already satisfied: rpds-py>=0.7.1 in c:\\users\\surep\\onedrive\\desktop\\ollama_code_explainer\\venv\\lib\\site-packages (from jsonschema>=4.18.0->jupyterlab-server<3,>=2.27.1->jupyterlab->jupyter) (0.28.0)\n",
      "Requirement already satisfied: python-json-logger>=2.0.4 in c:\\users\\surep\\onedrive\\desktop\\ollama_code_explainer\\venv\\lib\\site-packages (from jupyter-events>=0.11.0->jupyter-server<3,>=2.4.0->jupyterlab->jupyter) (4.0.0)\n",
      "Requirement already satisfied: pyyaml>=5.3 in c:\\users\\surep\\onedrive\\desktop\\ollama_code_explainer\\venv\\lib\\site-packages (from jupyter-events>=0.11.0->jupyter-server<3,>=2.4.0->jupyterlab->jupyter) (6.0.3)\n",
      "Requirement already satisfied: rfc3339-validator in c:\\users\\surep\\onedrive\\desktop\\ollama_code_explainer\\venv\\lib\\site-packages (from jupyter-events>=0.11.0->jupyter-server<3,>=2.4.0->jupyterlab->jupyter) (0.1.4)\n",
      "Requirement already satisfied: rfc3986-validator>=0.1.1 in c:\\users\\surep\\onedrive\\desktop\\ollama_code_explainer\\venv\\lib\\site-packages (from jupyter-events>=0.11.0->jupyter-server<3,>=2.4.0->jupyterlab->jupyter) (0.1.1)\n",
      "Requirement already satisfied: six>=1.5 in c:\\users\\surep\\onedrive\\desktop\\ollama_code_explainer\\venv\\lib\\site-packages (from python-dateutil>=2.8.2->jupyter-client>=8.0.0->ipykernel->jupyter) (1.17.0)\n",
      "Requirement already satisfied: charset_normalizer<4,>=2 in c:\\users\\surep\\onedrive\\desktop\\ollama_code_explainer\\venv\\lib\\site-packages (from requests>=2.31->jupyterlab-server<3,>=2.27.1->jupyterlab->jupyter) (3.4.4)\n",
      "Requirement already satisfied: urllib3<3,>=1.21.1 in c:\\users\\surep\\onedrive\\desktop\\ollama_code_explainer\\venv\\lib\\site-packages (from requests>=2.31->jupyterlab-server<3,>=2.27.1->jupyterlab->jupyter) (2.5.0)\n",
      "Requirement already satisfied: executing>=1.2.0 in c:\\users\\surep\\onedrive\\desktop\\ollama_code_explainer\\venv\\lib\\site-packages (from stack_data->ipython>=7.23.1->ipykernel->jupyter) (2.2.1)\n",
      "Requirement already satisfied: asttokens>=2.1.0 in c:\\users\\surep\\onedrive\\desktop\\ollama_code_explainer\\venv\\lib\\site-packages (from stack_data->ipython>=7.23.1->ipykernel->jupyter) (3.0.0)\n",
      "Requirement already satisfied: pure-eval in c:\\users\\surep\\onedrive\\desktop\\ollama_code_explainer\\venv\\lib\\site-packages (from stack_data->ipython>=7.23.1->ipykernel->jupyter) (0.2.3)\n",
      "Requirement already satisfied: fqdn in c:\\users\\surep\\onedrive\\desktop\\ollama_code_explainer\\venv\\lib\\site-packages (from jsonschema[format-nongpl]>=4.18.0->jupyter-events>=0.11.0->jupyter-server<3,>=2.4.0->jupyterlab->jupyter) (1.5.1)\n",
      "Requirement already satisfied: isoduration in c:\\users\\surep\\onedrive\\desktop\\ollama_code_explainer\\venv\\lib\\site-packages (from jsonschema[format-nongpl]>=4.18.0->jupyter-events>=0.11.0->jupyter-server<3,>=2.4.0->jupyterlab->jupyter) (20.11.0)\n",
      "Requirement already satisfied: jsonpointer>1.13 in c:\\users\\surep\\onedrive\\desktop\\ollama_code_explainer\\venv\\lib\\site-packages (from jsonschema[format-nongpl]>=4.18.0->jupyter-events>=0.11.0->jupyter-server<3,>=2.4.0->jupyterlab->jupyter) (3.0.0)\n",
      "Requirement already satisfied: rfc3987-syntax>=1.1.0 in c:\\users\\surep\\onedrive\\desktop\\ollama_code_explainer\\venv\\lib\\site-packages (from jsonschema[format-nongpl]>=4.18.0->jupyter-events>=0.11.0->jupyter-server<3,>=2.4.0->jupyterlab->jupyter) (1.1.0)\n",
      "Requirement already satisfied: uri-template in c:\\users\\surep\\onedrive\\desktop\\ollama_code_explainer\\venv\\lib\\site-packages (from jsonschema[format-nongpl]>=4.18.0->jupyter-events>=0.11.0->jupyter-server<3,>=2.4.0->jupyterlab->jupyter) (1.3.0)\n",
      "Requirement already satisfied: webcolors>=24.6.0 in c:\\users\\surep\\onedrive\\desktop\\ollama_code_explainer\\venv\\lib\\site-packages (from jsonschema[format-nongpl]>=4.18.0->jupyter-events>=0.11.0->jupyter-server<3,>=2.4.0->jupyterlab->jupyter) (24.11.1)\n",
      "Requirement already satisfied: cffi>=1.0.1 in c:\\users\\surep\\onedrive\\desktop\\ollama_code_explainer\\venv\\lib\\site-packages (from argon2-cffi-bindings->argon2-cffi>=21.1->jupyter-server<3,>=2.4.0->jupyterlab->jupyter) (2.0.0)\n",
      "Requirement already satisfied: pycparser in c:\\users\\surep\\onedrive\\desktop\\ollama_code_explainer\\venv\\lib\\site-packages (from cffi>=1.0.1->argon2-cffi-bindings->argon2-cffi>=21.1->jupyter-server<3,>=2.4.0->jupyterlab->jupyter) (2.23)\n",
      "Requirement already satisfied: lark>=1.2.2 in c:\\users\\surep\\onedrive\\desktop\\ollama_code_explainer\\venv\\lib\\site-packages (from rfc3987-syntax>=1.1.0->jsonschema[format-nongpl]>=4.18.0->jupyter-events>=0.11.0->jupyter-server<3,>=2.4.0->jupyterlab->jupyter) (1.3.1)\n",
      "Requirement already satisfied: arrow>=0.15.0 in c:\\users\\surep\\onedrive\\desktop\\ollama_code_explainer\\venv\\lib\\site-packages (from isoduration->jsonschema[format-nongpl]>=4.18.0->jupyter-events>=0.11.0->jupyter-server<3,>=2.4.0->jupyterlab->jupyter) (1.4.0)\n",
      "Requirement already satisfied: tzdata in c:\\users\\surep\\onedrive\\desktop\\ollama_code_explainer\\venv\\lib\\site-packages (from arrow>=0.15.0->isoduration->jsonschema[format-nongpl]>=4.18.0->jupyter-events>=0.11.0->jupyter-server<3,>=2.4.0->jupyterlab->jupyter) (2025.2)\n"
     ]
    },
    {
     "name": "stderr",
     "output_type": "stream",
     "text": [
      "\n",
      "[notice] A new release of pip is available: 24.2 -> 25.3\n",
      "[notice] To update, run: python.exe -m pip install --upgrade pip\n"
     ]
    }
   ],
   "source": [
    "!pip install python-telegram-bot aiohttp python-dotenv jupyter\n"
   ]
  },
  {
   "cell_type": "code",
   "execution_count": 2,
   "id": "f64a9ef0",
   "metadata": {},
   "outputs": [],
   "source": [
    "import os\n",
    "import aiohttp\n",
    "import asyncio\n",
    "from dotenv import load_dotenv\n",
    "from telegram import Update\n",
    "from telegram.ext import ApplicationBuilder, CommandHandler, MessageHandler, filters, ContextTypes\n",
    "\n",
    "# Load environment variables\n",
    "load_dotenv()\n",
    "\n",
    "BOT_TOKEN = os.getenv(\"TELEGRAM_BOT_TOKEN\")\n",
    "OLLAMA_URL = os.getenv(\"OLLAMA_URL\", \"http://localhost:11434/api/generate\")\n"
   ]
  },
  {
   "cell_type": "code",
   "execution_count": null,
   "id": "52b21b30",
   "metadata": {},
   "outputs": [],
   "source": [
    "async def query_ollama(prompt: str) -> str:\n",
    "    \"\"\"Send a prompt to Ollama and return response.\"\"\"\n",
    "    payload = {\n",
    "        \"model\": \"llama3.2\",\n",
    "        \"prompt\": prompt,\n",
    "        \"stream\": False\n",
    "    }\n",
    "\n",
    "    async with aiohttp.ClientSession() as session:\n",
    "        async with session.post(f\"{OLLAMA_URL}/api/generate\", json=payload) as resp:\n",
    "            if resp.status == 200:\n",
    "                try:\n",
    "                    data = await resp.json()\n",
    "                    return data.get(\"response\", \"⚠ No response from model.\")\n",
    "                except Exception as e:\n",
    "                    text = await resp.text()\n",
    "                    return f\"⚠ JSON parse error: {e}\\nRaw: {text}\"\n",
    "            else:\n",
    "                error_text = await resp.text()\n",
    "                return f\"⚠ Ollama error {resp.status}: {error_text}\""
   ]
  },
  {
   "cell_type": "code",
   "execution_count": 4,
   "id": "f1784313",
   "metadata": {},
   "outputs": [],
   "source": [
    "async def start(update: Update, context: ContextTypes.DEFAULT_TYPE):\n",
    "    await update.message.reply_text(\n",
    "        \"🤖 *Welcome to Ollama Code Explainer Bot!*\\n\\n\"\n",
    "        \"Send me any code snippet (Python, C, Java, etc.), and I’ll explain it line-by-line.\\n\"\n",
    "        \"Use /optimize to get a cleaner or faster version of your code.\",\n",
    "        parse_mode=\"Markdown\"\n",
    "    )\n"
   ]
  },
  {
   "cell_type": "code",
   "execution_count": 5,
   "id": "4876fb4d",
   "metadata": {},
   "outputs": [],
   "source": [
    "async def explain_code(update: Update, context: ContextTypes.DEFAULT_TYPE):\n",
    "    code = update.message.text.strip()\n",
    "    if not code:\n",
    "        await update.message.reply_text(\"⚠️ Please send valid code.\")\n",
    "        return\n",
    "    \n",
    "    await update.message.reply_text(\"💭 Analyzing your code with Ollama, please wait...\")\n",
    "    \n",
    "    prompt = f\"Explain the following {len(code.splitlines())}-line code step-by-step:\\n\\n{code}\"\n",
    "    explanation = await query_ollama(prompt)\n",
    "    \n",
    "    await update.message.reply_text(f\"🧩 *Explanation:*\\n{explanation[:4000]}\", parse_mode=\"Markdown\")\n"
   ]
  },
  {
   "cell_type": "code",
   "execution_count": 6,
   "id": "30ee31b7",
   "metadata": {},
   "outputs": [],
   "source": [
    "async def optimize_code(update: Update, context: ContextTypes.DEFAULT_TYPE):\n",
    "    if not context.args:\n",
    "        await update.message.reply_text(\"Please send code after /optimize command.\")\n",
    "        return\n",
    "\n",
    "    code = \" \".join(context.args)\n",
    "    await update.message.reply_text(\"⚙️ Optimizing your code...\")\n",
    "\n",
    "    prompt = f\"Optimize the following code for readability and performance:\\n\\n{code}\\n\\nAlso explain the changes briefly.\"\n",
    "    optimized = await query_ollama(prompt)\n",
    "\n",
    "    await update.message.reply_text(f\"🚀 *Optimized Version:*\\n{optimized[:4000]}\", parse_mode=\"Markdown\")\n"
   ]
  },
  {
   "cell_type": "code",
   "execution_count": 7,
   "id": "9512782d",
   "metadata": {},
   "outputs": [],
   "source": [
    "app = ApplicationBuilder().token(BOT_TOKEN).build()\n",
    "\n",
    "# Add handlers\n",
    "app.add_handler(CommandHandler(\"start\", start))\n",
    "app.add_handler(CommandHandler(\"optimize\", optimize_code))\n",
    "app.add_handler(MessageHandler(filters.TEXT & ~filters.COMMAND, explain_code))\n"
   ]
  },
  {
   "cell_type": "code",
   "execution_count": null,
   "id": "26333022",
   "metadata": {},
   "outputs": [
    {
     "name": "stdout",
     "output_type": "stream",
     "text": [
      "🤖 Bot is running... Press Ctrl+C to stop.\n"
     ]
    },
    {
     "name": "stderr",
     "output_type": "stream",
     "text": [
      "No error handlers are registered, logging exception.\n",
      "Traceback (most recent call last):\n",
      "  File \"c:\\Users\\surep\\OneDrive\\Desktop\\ollama_code_explainer\\venv\\Lib\\site-packages\\telegram\\ext\\_application.py\", line 1315, in process_update\n",
      "    await coroutine\n",
      "  File \"c:\\Users\\surep\\OneDrive\\Desktop\\ollama_code_explainer\\venv\\Lib\\site-packages\\telegram\\ext\\_handlers\\basehandler.py\", line 159, in handle_update\n",
      "    return await self.callback(update, context)\n",
      "           ^^^^^^^^^^^^^^^^^^^^^^^^^^^^^^^^^^^^\n",
      "  File \"C:\\Users\\surep\\AppData\\Local\\Temp\\ipykernel_3752\\3001009518.py\", line 10, in explain_code\n",
      "    explanation = await query_ollama(prompt)\n",
      "                        ^^^^^^^^^^^^^^^^^^^^\n",
      "TypeError: query_ollama() missing 1 required positional argument: 'task_type'\n"
     ]
    }
   ],
   "source": [
    "import nest_asyncio\n",
    "nest_asyncio.apply()\n",
    "\n",
    "print(\"🤖 Bot is running... Press Ctrl+C to stop.\")\n",
    "await app.run_polling()\n",
    "\n"
   ]
  }
 ],
 "metadata": {
  "kernelspec": {
   "display_name": "venv",
   "language": "python",
   "name": "python3"
  },
  "language_info": {
   "codemirror_mode": {
    "name": "ipython",
    "version": 3
   },
   "file_extension": ".py",
   "mimetype": "text/x-python",
   "name": "python",
   "nbconvert_exporter": "python",
   "pygments_lexer": "ipython3",
   "version": "3.12.6"
  }
 },
 "nbformat": 4,
 "nbformat_minor": 5
}
